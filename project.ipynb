{
 "cells": [
  {
   "cell_type": "code",
   "execution_count": 75,
   "id": "abroad-timeline",
   "metadata": {},
   "outputs": [],
   "source": [
    "from scipy.integrate import odeint\n",
    "import numpy as np\n",
    "from numpy.random import default_rng\n",
    "import plotly.graph_objects as go\n",
    "import plotly.io as pio\n",
    "# from plotly.offline import download_plotlyjs, init_notebook_mode, plot, iplot\n",
    "import plotly.offline as py"
   ]
  },
  {
   "cell_type": "code",
   "execution_count": 76,
   "id": "contrary-observer",
   "metadata": {},
   "outputs": [
    {
     "name": "stdout",
     "output_type": "stream",
     "text": [
      "[  0.           0.         -98.17975226]\n"
     ]
    }
   ],
   "source": [
    "covariance_v_t0 = 200**2  # (ft/sec)^2\n",
    "Vc = 300 # ft/sec\n",
    "covariance_at = 100**2    # (ft/sec^2)^2\n",
    "tf = 10 # sec\n",
    "R1 = 15e-6 # rad^2/sec\n",
    "R2 = 1.67e-3 # rad^2/sec^3\n",
    "tau = 2 # sec\n",
    "\n",
    "F = np.array([\n",
    "    [0, 1, 0],\n",
    "    [0, 0, -1],\n",
    "    [0, 0, -1/tau]\n",
    "])\n",
    "G = np.array([0, 0, 1])\n",
    "\n",
    "rng = default_rng()\n",
    "y0 = 0\n",
    "v0 = 0\n",
    "aT0 = rng.normal(scale=np.sqrt(covariance_at))\n",
    "x0 = np.array([0, v0, aT0])\n",
    "print(y0)"
   ]
  },
  {
   "cell_type": "markdown",
   "id": "dangerous-exception",
   "metadata": {},
   "source": [
    "See numpy's [random number generator ref](https://numpy.org/doc/stable/reference/random/generator.html) for more. \n",
    "The noise is not Gaussian, but instead looks more like laplace.\n",
    "\n",
    "It's actually an [Ornstein-Uhlenbeck Process](https://www.lanl.gov/DLDSTP/fast/OU_process.pdf) with zero mean and exponential correlation function. See Section 4 in the link on how to simulate this.\n",
    "\n",
    "[Simulating a stochastic differential equation in Python](https://ipython-books.github.io/134-simulating-a-stochastic-differential-equation/)"
   ]
  },
  {
   "cell_type": "code",
   "execution_count": 73,
   "id": "automatic-european",
   "metadata": {},
   "outputs": [
    {
     "name": "stdout",
     "output_type": "stream",
     "text": [
      "0.2852280071099692\n"
     ]
    }
   ],
   "source": [
    "vals = rng.standard_normal(10)\n",
    "vals2 = rng.laplace(loc=0, scale=tau)\n",
    "# noise = covariance_at * rng.\n",
    "print(vals2)"
   ]
  },
  {
   "cell_type": "code",
   "execution_count": 74,
   "id": "affecting-census",
   "metadata": {},
   "outputs": [],
   "source": [
    "def statespace(x, t):\n",
    "    pass\n",
    "#     at = \n",
    "#     dydt = np.array([y[1], ])"
   ]
  },
  {
   "cell_type": "markdown",
   "id": "demanding-coaching",
   "metadata": {},
   "source": [
    "See scipy's [odeint ref](https://docs.scipy.org/doc/scipy/reference/generated/scipy.integrate.odeint.html) for more on how to use the function."
   ]
  },
  {
   "cell_type": "code",
   "execution_count": null,
   "id": "southern-adobe",
   "metadata": {},
   "outputs": [],
   "source": [
    "xtrue = odeint(statespace, x0, t)"
   ]
  }
 ],
 "metadata": {
  "kernelspec": {
   "display_name": "Python 3",
   "language": "python",
   "name": "python3"
  },
  "language_info": {
   "codemirror_mode": {
    "name": "ipython",
    "version": 3
   },
   "file_extension": ".py",
   "mimetype": "text/x-python",
   "name": "python",
   "nbconvert_exporter": "python",
   "pygments_lexer": "ipython3",
   "version": "3.6.9"
  }
 },
 "nbformat": 4,
 "nbformat_minor": 5
}
